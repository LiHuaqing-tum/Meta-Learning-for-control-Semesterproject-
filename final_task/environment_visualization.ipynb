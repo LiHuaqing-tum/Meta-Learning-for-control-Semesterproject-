{
  "cells": [
    {
      "cell_type": "code",
      "execution_count": 2,
      "metadata": {},
      "outputs": [
        {
          "name": "stdout",
          "output_type": "stream",
          "text": [
            "Failed to import warp: No module named 'warp'\n",
            "Failed to import mujoco.mjx.third_party.mujoco_warp as mujoco_warp: No module named 'warp'\n"
          ]
        }
      ],
      "source": [
        "import jax\n",
        "import jax.numpy as jnp\n",
        "import mujoco\n",
        "import mujoco.viewer\n",
        "import mujoco.mjx as mjx\n",
        "import time\n"
      ]
    },
    {
      "cell_type": "code",
      "execution_count": 3,
      "metadata": {},
      "outputs": [
        {
          "name": "stdout",
          "output_type": "stream",
          "text": [
            "Model loaded successfully!\n",
            "Number of bodies: 13\n",
            "Number of joints: 8\n",
            "Number of actuators: 7\n",
            "Number of degrees of freedom: 13\n"
          ]
        }
      ],
      "source": [
        "# Load the Panda push scene model\n",
        "model = mujoco.MjModel.from_xml_path(\"scenes/panda_push_scene_without_obstacle.xml\")\n",
        "data = mujoco.MjData(model)\n",
        "mjx_model = mjx.put_model(model)\n",
        "mjx_data = mjx.put_data(model, data)\n",
        "\n",
        "print(f\"Model loaded successfully!\")\n",
        "print(f\"Number of bodies: {model.nbody}\")\n",
        "print(f\"Number of joints: {model.njnt}\")\n",
        "print(f\"Number of actuators: {model.nu}\")\n",
        "print(f\"Number of degrees of freedom: {model.nv}\")\n"
      ]
    },
    {
      "cell_type": "code",
      "execution_count": 4,
      "metadata": {},
      "outputs": [
        {
          "name": "stdout",
          "output_type": "stream",
          "text": [
            "Opening MuJoCo viewer to show scene structure...\n",
            "Scene loaded in MuJoCo viewer!\n",
            "You can see:\n",
            "- Panda robot arm\n",
            "- Blue intermediate area (right side)\n",
            "- Green obstacle block (center)\n",
            "- Red target area (far end)\n",
            "- Blue pushable block (starting position)\n",
            "\n",
            "Use mouse to rotate, zoom, and pan the view\n",
            "Close the viewer window when done\n"
          ]
        },
        {
          "ename": "KeyboardInterrupt",
          "evalue": "",
          "output_type": "error",
          "traceback": [
            "\u001b[1;31m---------------------------------------------------------------------------\u001b[0m",
            "\u001b[1;31mKeyboardInterrupt\u001b[0m                         Traceback (most recent call last)",
            "Cell \u001b[1;32mIn[4], line 17\u001b[0m\n\u001b[0;32m     14\u001b[0m \u001b[38;5;28mprint\u001b[39m(\u001b[38;5;124m\"\u001b[39m\u001b[38;5;124mClose the viewer window when done\u001b[39m\u001b[38;5;124m\"\u001b[39m)\n\u001b[0;32m     16\u001b[0m \u001b[38;5;66;03m# Keep viewer open for a few seconds to see the scene\u001b[39;00m\n\u001b[1;32m---> 17\u001b[0m time\u001b[38;5;241m.\u001b[39msleep(\u001b[38;5;241m1000\u001b[39m)\n",
            "\u001b[1;31mKeyboardInterrupt\u001b[0m: "
          ]
        }
      ],
      "source": [
        "# Use MuJoCo viewer to show the scene structure\n",
        "print(\"Opening MuJoCo viewer to show scene structure...\")\n",
        "\n",
        "# Create MuJoCo viewer\n",
        "with mujoco.viewer.launch_passive(model, data) as viewer:\n",
        "    print(\"Scene loaded in MuJoCo viewer!\")\n",
        "    print(\"You can see:\")\n",
        "    print(\"- Panda robot arm\")\n",
        "    print(\"- Blue intermediate area (right side)\")\n",
        "    print(\"- Green obstacle block (center)\")\n",
        "    print(\"- Red target area (far end)\")\n",
        "    print(\"- Blue pushable block (starting position)\")\n",
        "    print(\"\\nUse mouse to rotate, zoom, and pan the view\")\n",
        "    print(\"Close the viewer window when done\")\n",
        "    \n",
        "    # Keep viewer open for a few seconds to see the scene\n",
        "    time.sleep(1000)\n"
      ]
    }
  ],
  "metadata": {
    "kernelspec": {
      "display_name": "Python 3.12.7 (base)",
      "language": "python",
      "name": "base"
    },
    "language_info": {
      "codemirror_mode": {
        "name": "ipython",
        "version": 3
      },
      "file_extension": ".py",
      "mimetype": "text/x-python",
      "name": "python",
      "nbconvert_exporter": "python",
      "pygments_lexer": "ipython3",
      "version": "3.12.3"
    }
  },
  "nbformat": 4,
  "nbformat_minor": 2
}
