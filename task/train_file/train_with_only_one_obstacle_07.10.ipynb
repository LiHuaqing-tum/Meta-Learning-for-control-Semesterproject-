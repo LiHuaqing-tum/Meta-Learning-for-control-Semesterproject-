{
  "cells": [
    {
      "cell_type": "code",
      "execution_count": 1,
      "id": "2f32253c",
      "metadata": {
        "colab": {
          "base_uri": "https://localhost:8080/"
        },
        "id": "2f32253c",
        "outputId": "9808772a-b07b-470d-fa51-cbdda6b484b0"
      },
      "outputs": [
        {
          "name": "stdout",
          "output_type": "stream",
          "text": [
            "\u001b[?25l   \u001b[90m━━━━━━━━━━━━━━━━━━━━━━━━━━━━━━━━━━━━━━━━\u001b[0m \u001b[32m0.0/1.8 MB\u001b[0m \u001b[31m?\u001b[0m eta \u001b[36m-:--:--\u001b[0m\r\u001b[2K   \u001b[91m━━━━━━━━━━━━━━━━━━━━━━━━━━━━━━━\u001b[0m\u001b[91m╸\u001b[0m\u001b[90m━━━━━━━━\u001b[0m \u001b[32m1.4/1.8 MB\u001b[0m \u001b[31m40.2 MB/s\u001b[0m eta \u001b[36m0:00:01\u001b[0m\r\u001b[2K   \u001b[91m━━━━━━━━━━━━━━━━━━━━━━━━━━━━━━━━━━━━━━━\u001b[0m\u001b[91m╸\u001b[0m \u001b[32m1.8/1.8 MB\u001b[0m \u001b[31m38.7 MB/s\u001b[0m eta \u001b[36m0:00:01\u001b[0m\r\u001b[2K   \u001b[90m━━━━━━━━━━━━━━━━━━━━━━━━━━━━━━━━━━━━━━━━\u001b[0m \u001b[32m1.8/1.8 MB\u001b[0m \u001b[31m21.1 MB/s\u001b[0m eta \u001b[36m0:00:00\u001b[0m\n",
            "\u001b[?25hCloning into 'Meta-Learning-for-control-Semesterproject-'...\n",
            "remote: Enumerating objects: 113, done.\u001b[K\n",
            "remote: Counting objects: 100% (113/113), done.\u001b[K\n",
            "remote: Compressing objects: 100% (100/100), done.\u001b[K\n",
            "remote: Total 113 (delta 13), reused 104 (delta 9), pack-reused 0 (from 0)\u001b[K\n",
            "Receiving objects: 100% (113/113), 4.81 MiB | 9.10 MiB/s, done.\n",
            "Resolving deltas: 100% (13/13), done.\n",
            "/content/Meta-Learning-for-control-Semesterproject-\n"
          ]
        }
      ],
      "source": [
        "%pip install -q --upgrade pip\n",
        "%pip install -q \"jax[cuda12]\" -f https://storage.googleapis.com/jax-releases/jax_cuda_releases.html\n",
        "%pip install -q optax matplotlib\n",
        "%pip install -q mujoco-mjx\n",
        "%pip install -q stljax\n",
        "import os\n",
        "\n",
        "repo_url = \"https://github.com/LiHuaqing-tum/Meta-Learning-for-control-Semesterproject-.git\"\n",
        "repo_name = \"Meta-Learning-for-control-Semesterproject-\"\n",
        "\n",
        "if not os.path.exists(repo_name):\n",
        "    !git clone {repo_url}\n",
        "else:\n",
        "    %cd {repo_name}\n",
        "    !git pull origin main\n",
        "    %cd ..\n",
        "\n",
        "%cd {repo_name}\n",
        "\n"
      ]
    },
    {
      "cell_type": "code",
      "execution_count": 2,
      "id": "oeK258jS06c1",
      "metadata": {
        "colab": {
          "base_uri": "https://localhost:8080/"
        },
        "id": "oeK258jS06c1",
        "outputId": "c43f2803-02df-4c33-8aae-512a6501a813"
      },
      "outputs": [
        {
          "name": "stdout",
          "output_type": "stream",
          "text": [
            "✅ Setup complete!\n",
            "JAX version: 0.5.3\n",
            "MuJoCo version: 3.3.6\n"
          ]
        }
      ],
      "source": [
        "import jax, mujoco, optax\n",
        "print(\"✅ Setup complete!\")\n",
        "print(\"JAX version:\", jax.__version__)\n",
        "print(\"MuJoCo version:\", mujoco.__version__)\n"
      ]
    },
    {
      "cell_type": "code",
      "execution_count": 3,
      "id": "eb3c3bb7",
      "metadata": {
        "colab": {
          "base_uri": "https://localhost:8080/"
        },
        "id": "eb3c3bb7",
        "outputId": "f21a8bce-0e24-414c-f5c8-74e9733f4ce1"
      },
      "outputs": [
        {
          "name": "stdout",
          "output_type": "stream",
          "text": [
            "Failed to import warp: No module named 'warp'\n",
            "Failed to import mujoco.mjx.third_party.mujoco_warp as mujoco_warp: No module named 'warp'\n"
          ]
        },
        {
          "name": "stderr",
          "output_type": "stream",
          "text": [
            "/usr/local/lib/python3.12/dist-packages/jupyter_client/session.py:203: DeprecationWarning: datetime.datetime.utcnow() is deprecated and scheduled for removal in a future version. Use timezone-aware objects to represent datetimes in UTC: datetime.datetime.now(datetime.UTC).\n",
            "  return datetime.utcnow().replace(tzinfo=utc)\n"
          ]
        }
      ],
      "source": [
        "import sys\n",
        "import pathlib\n",
        "\n",
        "import jax\n",
        "import jax.numpy as jnp\n",
        "from mujoco import mjx\n",
        "\n",
        "import matplotlib.pyplot as plt\n",
        "from stljax.formula import *\n",
        "from stljax.viz import *\n",
        "import optax\n",
        "import functools"
      ]
    },
    {
      "cell_type": "code",
      "execution_count": 4,
      "id": "caOECsV0rRyv",
      "metadata": {
        "id": "caOECsV0rRyv"
      },
      "outputs": [],
      "source": [
        "\n",
        "from pathlib import Path\n",
        "\n",
        "repo_root = Path.cwd()\n",
        "xml_path  = repo_root / \"task\" / \"scenes\" / \"panda_push_scene_without_obstacle.xml\"\n",
        "from src.environment.SImpleReacherEnv import SimpleReacherEnv\n"
      ]
    },
    {
      "cell_type": "code",
      "execution_count": 5,
      "id": "7f7d60d9",
      "metadata": {
        "id": "7f7d60d9"
      },
      "outputs": [],
      "source": [
        "def sdist_circle_2d(p_xy, center_xy, radius):\n",
        "\n",
        "    return jnp.linalg.norm(p_xy - center_xy, axis=-1) - radius"
      ]
    },
    {
      "cell_type": "code",
      "execution_count": 6,
      "id": "19a9de4f",
      "metadata": {
        "id": "19a9de4f"
      },
      "outputs": [],
      "source": [
        "\n",
        "GREEN_C = jnp.array([0.0, 0.90])\n",
        "GREEN_H = jnp.array([0.08, 0.08])\n",
        "R_OBS   = jnp.linalg.norm(GREEN_H)\n",
        "\n",
        "RED_C   = jnp.array([0.0, 1.40])\n",
        "RED_H   = jnp.array([0.15, 0.15])\n",
        "R_GOAL  = jnp.minimum(RED_H[0], RED_H[1])\n",
        "\n",
        "BLOCK_H = jnp.array([0.06, 0.06])\n",
        "R_BLOCK = jnp.linalg.norm(BLOCK_H)\n",
        "\n",
        "\n",
        "def avoid_green_signal_circ_circ(states_xy, obstacle_center_xy, safe_margin=0.02):\n",
        "    req = R_BLOCK + R_OBS + safe_margin\n",
        "    return jnp.linalg.norm(states_xy - obstacle_center_xy, axis=-1) - req\n",
        "\n",
        "\n",
        "def reach_red_signal_circ_goal(states_xy, target_center_xy, inside_tol=0.02):\n",
        "    req_in = jnp.maximum(R_GOAL - (R_BLOCK + inside_tol), 0.0)\n",
        "    return req_in - jnp.linalg.norm(states_xy - target_center_xy, axis=-1)"
      ]
    },
    {
      "cell_type": "code",
      "execution_count": 7,
      "id": "0e05baaf",
      "metadata": {
        "id": "0e05baaf"
      },
      "outputs": [],
      "source": [
        "\n",
        "\n",
        "\n",
        "env = SimpleReacherEnv(\n",
        "    model_path=str(repo_root / \"task\" / \"scenes\" / \"panda_push_scene_without_obstacle.xml\"),\n",
        "    return_full_qpos_qvel=False,\n",
        ")\n",
        "_ = env.reset(jax.random.PRNGKey(0))\n",
        "initial_data = env.d\n",
        "\n",
        "\n",
        "obstacle_center_xy = env.obstacle_center_xy\n",
        "target_center_xy = env.target_center_xy\n",
        "\n",
        "\n",
        "# STL predicates that capture the current obstacle/target centers\n",
        "def build_spec(obstacle_center_xy, target_center_xy, safe_margin=0.02, inside_tol=0.02):\n",
        "    avoid_pred = Predicate(\n",
        "        \"avoid_green_margin\",\n",
        "        lambda traj_xy: avoid_green_signal_circ_circ(traj_xy, obstacle_center_xy, safe_margin)\n",
        "    )\n",
        "    reach_pred = Predicate(\n",
        "        \"reach_red_margin\",\n",
        "        lambda traj_xy: reach_red_signal_circ_goal(traj_xy, target_center_xy, inside_tol)\n",
        "    )\n",
        "    avoid_atom = (avoid_pred > 0.0)\n",
        "    reach_atom = (reach_pred > 0.0)\n",
        "    return avoid_atom, reach_atom\n",
        "\n",
        "avoid_atom, reach_atom = build_spec(obstacle_center_xy, target_center_xy)\n",
        "\n",
        "\n",
        "\n",
        "horizon = 150  # Parameter we need to define\n",
        "\n",
        "\n",
        "\n",
        "spec = Always(avoid_atom, interval=(0, horizon)) & Eventually(reach_atom, interval=(0, horizon))"
      ]
    },
    {
      "cell_type": "code",
      "execution_count": 13,
      "id": "NKF0fJnufZGw",
      "metadata": {
        "colab": {
          "base_uri": "https://localhost:8080/"
        },
        "id": "NKF0fJnufZGw",
        "outputId": "ca116132-2976-42f3-aa11-a6fa594fe955"
      },
      "outputs": [
        {
          "name": "stdout",
          "output_type": "stream",
          "text": [
            "[-87. -87. -87. -87. -12. -12. -12.]\n",
            "[87. 87. 87. 87. 12. 12. 12.]\n"
          ]
        }
      ],
      "source": [
        "print(env.ctrlrange_jnp[:, 0])\n",
        "print(env.ctrlrange_jnp[:, 1])"
      ]
    },
    {
      "cell_type": "code",
      "execution_count": 8,
      "id": "ec5e7db4",
      "metadata": {
        "id": "ec5e7db4"
      },
      "outputs": [],
      "source": [
        "\n",
        "obs_dim = env.get_observation_space()[0]\n",
        "act_dim = env.get_action_space()[0]\n",
        "\n",
        "\n",
        "layer_sizes = [obs_dim, 64, 64, act_dim]\n",
        "\n",
        "def init_layer_params(key, in_dim, out_dim):\n",
        "    w_key, b_key = jax.random.split(key)\n",
        "    glorot = jnp.sqrt(2.0 / (in_dim + out_dim))\n",
        "    W = glorot * jax.random.normal(w_key, (out_dim, in_dim))\n",
        "    b = jnp.zeros((out_dim,))\n",
        "    return W, b\n",
        "\n",
        "def init_policy_params(key, sizes):\n",
        "    keys = jax.random.split(key, len(sizes) - 1)\n",
        "    return [init_layer_params(k, sizes[i], sizes[i + 1]) for i, k in enumerate(keys)]\n",
        "\n",
        "policy_key = jax.random.PRNGKey(42)\n",
        "policy_params = init_policy_params(policy_key, layer_sizes)\n",
        "\n",
        "\n",
        "tau_lo = env.ctrlrange_jnp[:, 0] if env.ctrlrange_jnp.size else None\n",
        "tau_hi = env.ctrlrange_jnp[:, 1] if env.ctrlrange_jnp.size else None\n",
        "\n",
        "def policy_apply(params, obs):\n",
        "    x = obs\n",
        "    for W, b in params[:-1]:\n",
        "        x = jnp.tanh(W @ x + b)\n",
        "    W, b = params[-1]\n",
        "    raw = jnp.tanh(W @ x + b)\n",
        "    if tau_lo is not None:\n",
        "        raw_tau = tau_lo + 0.5 * (raw + 1.0) * (tau_hi - tau_lo)\n",
        "        return 0.2 * raw_tau\n",
        "    return raw\n",
        "\n",
        "\n",
        "def block_xy_from_data(data: mjx.Data) -> jnp.ndarray:\n",
        "    return data.site_xpos[env.site_id_block, :2]\n",
        "\n",
        "def rollout_block_xy(params, data0):\n",
        "    obs0 = env._obs_from_data(data0)\n",
        "    xy0 = block_xy_from_data(data0)\n",
        "\n",
        "    def body_fn(carry, _):\n",
        "        data, obs = carry\n",
        "        act = policy_apply(params, obs)\n",
        "        data_new = data.replace(ctrl=act)\n",
        "        data_new = mjx.step(env.m, data_new)\n",
        "        obs_new = env._obs_from_data(data_new)\n",
        "        xy_new = block_xy_from_data(data_new)\n",
        "        return (data_new, obs_new), (obs_new, act, xy_new)\n",
        "\n",
        "    (_, _), (obs_seq, act_seq, xy_seq) = jax.lax.scan(\n",
        "        body_fn,\n",
        "        (data0, obs0),\n",
        "        jnp.arange(horizon)\n",
        "    )\n",
        "\n",
        "    obs_traj = jnp.vstack([obs0, obs_seq])            # (horizon+1, obs_dim)\n",
        "    xy_traj = jnp.vstack([xy0, xy_seq])               # (horizon+1, 2)\n",
        "    return xy_traj, obs_traj, act_seq\n",
        "\n",
        "\n"
      ]
    },
    {
      "cell_type": "code",
      "execution_count": null,
      "id": "MT_cVGCmd-O7",
      "metadata": {
        "id": "MT_cVGCmd-O7"
      },
      "outputs": [],
      "source": [
        "def loss_fn(params):\n",
        "    traj_xy, _, _ = rollout_block_xy(params, initial_data)\n",
        "\n",
        "    rob = spec.robustness(traj_xy)\n",
        "    return jax.nn.relu(-rob)\n"
      ]
    },
    {
      "cell_type": "code",
      "execution_count": 9,
      "id": "lKbjFFLBeAdY",
      "metadata": {
        "id": "lKbjFFLBeAdY"
      },
      "outputs": [],
      "source": [
        "loss_weights = jnp.array([1.0, 0.05, 0.05])\n",
        "torque_limit = jnp.max(jnp.abs(env.ctrlrange_jnp))\n",
        "def loss_fn(params):\n",
        "    traj_xy, _, act_seq = rollout_block_xy(params, initial_data)\n",
        "\n",
        "\n",
        "    robustness_trace = spec(traj_xy)\n",
        "    robustness = robustness_trace[-1]\n",
        "    loss_robustness = jax.nn.relu(-robustness)\n",
        "\n",
        "\n",
        "    diffs = jnp.diff(act_seq, axis=0)\n",
        "    total_variation = jnp.mean(jnp.sum(jnp.abs(diffs), axis=1))\n",
        "    l2_energy = jnp.mean(jnp.sum(act_seq**2, axis=1))\n",
        "    loss_smooth = total_variation + l2_energy\n",
        "\n",
        "\n",
        "    tau_norm = jnp.linalg.norm(act_seq, axis=1)\n",
        "    loss_limits = jnp.mean(jax.nn.relu(tau_norm - torque_limit))\n",
        "\n",
        "    cost_vec = jnp.array([\n",
        "        loss_robustness,\n",
        "        loss_smooth,\n",
        "        loss_limits,\n",
        "    ])\n",
        "\n",
        "    return jnp.dot(loss_weights, cost_vec)\n",
        "\n"
      ]
    },
    {
      "cell_type": "code",
      "execution_count": 10,
      "id": "2ISgF4_Wg-I3",
      "metadata": {
        "id": "2ISgF4_Wg-I3"
      },
      "outputs": [],
      "source": [
        "from jax import jacfwd\n",
        "from jax.flatten_util import ravel_pytree\n",
        "import optax"
      ]
    },
    {
      "cell_type": "code",
      "execution_count": null,
      "id": "66894877",
      "metadata": {},
      "outputs": [],
      "source": [
        "\n"
      ]
    },
    {
      "cell_type": "code",
      "execution_count": null,
      "id": "c1ea3f36",
      "metadata": {},
      "outputs": [],
      "source": [
        "\n"
      ]
    },
    {
      "cell_type": "code",
      "execution_count": null,
      "id": "121148a9",
      "metadata": {},
      "outputs": [],
      "source": [
        "\n"
      ]
    },
    {
      "cell_type": "code",
      "execution_count": 11,
      "id": "80a00c9e",
      "metadata": {
        "colab": {
          "base_uri": "https://localhost:8080/",
          "height": 943
        },
        "id": "80a00c9e",
        "outputId": "bd8ed272-9fc9-4f87-9e50-31db12d2db93"
      },
      "outputs": [
        {
          "name": "stderr",
          "output_type": "stream",
          "text": [
            "/usr/local/lib/python3.12/dist-packages/jax/_src/interpreters/xla.py:132: RuntimeWarning: overflow encountered in cast\n",
            "  return np.asarray(x, dtypes.canonicalize_dtype(x.dtype))\n"
          ]
        },
        {
          "name": "stdout",
          "output_type": "stream",
          "text": [
            "step 0001 | STL loss -1000000000.0000 robustness\n",
            "step 0002 | STL loss -1000000000.0000 robustness\n",
            "step 0003 | STL loss -1000000000.0000 robustness\n",
            "step 0004 | STL loss -1000000000.0000 robustness\n",
            "step 0005 | STL loss -1000000000.0000 robustness\n",
            "step 0006 | STL loss -1000000000.0000 robustness\n",
            "step 0007 | STL loss -1000000000.0000 robustness\n",
            "step 0008 | STL loss -1000000000.0000 robustness\n",
            "step 0009 | STL loss -1000000000.0000 robustness\n",
            "step 0010 | STL loss -1000000000.0000 robustness\n",
            "step 0011 | STL loss -1000000000.0000 robustness\n",
            "step 0012 | STL loss -1000000000.0000 robustness\n",
            "step 0013 | STL loss -1000000000.0000 robustness\n",
            "step 0014 | STL loss -1000000000.0000 robustness\n",
            "step 0015 | STL loss -1000000000.0000 robustness\n",
            "step 0016 | STL loss -1000000000.0000 robustness\n",
            "step 0017 | STL loss -1000000000.0000 robustness\n",
            "step 0018 | STL loss -1000000000.0000 robustness\n",
            "step 0019 | STL loss -1000000000.0000 robustness\n",
            "step 0020 | STL loss -1000000000.0000 robustness\n",
            "step 0021 | STL loss -1000000000.0000 robustness\n",
            "step 0022 | STL loss -1000000000.0000 robustness\n",
            "step 0023 | STL loss -1000000000.0000 robustness\n",
            "step 0024 | STL loss -1000000000.0000 robustness\n",
            "step 0025 | STL loss -1000000000.0000 robustness\n",
            "step 0026 | STL loss -1000000000.0000 robustness\n",
            "step 0027 | STL loss -1000000000.0000 robustness\n",
            "step 0028 | STL loss -1000000000.0000 robustness\n",
            "step 0029 | STL loss -1000000000.0000 robustness\n",
            "step 0030 | STL loss -1000000000.0000 robustness\n",
            "step 0031 | STL loss -1000000000.0000 robustness\n",
            "step 0032 | STL loss -1000000000.0000 robustness\n",
            "step 0033 | STL loss -1000000000.0000 robustness\n"
          ]
        },
        {
          "ename": "KeyboardInterrupt",
          "evalue": "",
          "output_type": "error",
          "traceback": [
            "\u001b[0;31m---------------------------------------------------------------------------\u001b[0m",
            "\u001b[0;31mKeyboardInterrupt\u001b[0m                         Traceback (most recent call last)",
            "\u001b[0;32m/tmp/ipython-input-2489653918.py\u001b[0m in \u001b[0;36m<cell line: 0>\u001b[0;34m()\u001b[0m\n\u001b[1;32m     17\u001b[0m \u001b[0mnum_steps\u001b[0m \u001b[0;34m=\u001b[0m \u001b[0;36m2000\u001b[0m\u001b[0;34m\u001b[0m\u001b[0;34m\u001b[0m\u001b[0m\n\u001b[1;32m     18\u001b[0m \u001b[0;32mfor\u001b[0m \u001b[0mstep\u001b[0m \u001b[0;32min\u001b[0m \u001b[0mrange\u001b[0m\u001b[0;34m(\u001b[0m\u001b[0;36m1\u001b[0m\u001b[0;34m,\u001b[0m \u001b[0mnum_steps\u001b[0m \u001b[0;34m+\u001b[0m \u001b[0;36m1\u001b[0m\u001b[0;34m)\u001b[0m\u001b[0;34m:\u001b[0m\u001b[0;34m\u001b[0m\u001b[0;34m\u001b[0m\u001b[0m\n\u001b[0;32m---> 19\u001b[0;31m     \u001b[0mpolicy_params\u001b[0m\u001b[0;34m,\u001b[0m \u001b[0mopt_state\u001b[0m\u001b[0;34m,\u001b[0m \u001b[0mtrain_loss\u001b[0m \u001b[0;34m=\u001b[0m \u001b[0mupdate\u001b[0m\u001b[0;34m(\u001b[0m\u001b[0mpolicy_params\u001b[0m\u001b[0;34m,\u001b[0m \u001b[0mopt_state\u001b[0m\u001b[0;34m)\u001b[0m\u001b[0;34m\u001b[0m\u001b[0;34m\u001b[0m\u001b[0m\n\u001b[0m\u001b[1;32m     20\u001b[0m \u001b[0;34m\u001b[0m\u001b[0m\n\u001b[1;32m     21\u001b[0m     \u001b[0mprint\u001b[0m\u001b[0;34m(\u001b[0m\u001b[0;34mf\"step {step:04d} | STL loss {-train_loss:.4f} robustness\"\u001b[0m\u001b[0;34m)\u001b[0m\u001b[0;34m\u001b[0m\u001b[0;34m\u001b[0m\u001b[0m\n",
            "\u001b[0;32m<string>\u001b[0m in \u001b[0;36m<lambda>\u001b[0;34m(_cls, count, mu, nu)\u001b[0m\n",
            "\u001b[0;31mKeyboardInterrupt\u001b[0m: "
          ]
        }
      ],
      "source": [
        "optimizer = optax.adam(1e-3)\n",
        "opt_state = optimizer.init(policy_params)\n",
        "\n",
        "@jax.jit\n",
        "def update(params, opt_state):\n",
        "    loss_val = loss_fn(params)\n",
        "    flat_params, unravel = ravel_pytree(params)\n",
        "    def loss_flat(p):\n",
        "        return loss_fn(unravel(p))\n",
        "    grad_flat = jacfwd(loss_flat)(flat_params)\n",
        "    grads = unravel(grad_flat)\n",
        "    updates, opt_state = optimizer.update(grads, opt_state, params)\n",
        "    params = optax.apply_updates(params, updates)\n",
        "    return params, opt_state, loss_val\n",
        "\n",
        "\n",
        "num_steps = 2000\n",
        "for step in range(1, num_steps + 1):\n",
        "    policy_params, opt_state, train_loss = update(policy_params, opt_state)\n",
        "\n",
        "    print(f\"step {step:04d} | STL loss {-train_loss:.4f} robustness\")\n"
      ]
    },
    {
      "cell_type": "code",
      "execution_count": null,
      "id": "IKEqdI3wLpLD",
      "metadata": {
        "id": "IKEqdI3wLpLD"
      },
      "outputs": [],
      "source": []
    },
    {
      "cell_type": "code",
      "execution_count": null,
      "id": "uZmzm3KnMBvP",
      "metadata": {
        "id": "uZmzm3KnMBvP"
      },
      "outputs": [],
      "source": []
    }
  ],
  "metadata": {
    "accelerator": "GPU",
    "colab": {
      "gpuType": "T4",
      "provenance": []
    },
    "kernelspec": {
      "display_name": "Python 3",
      "name": "python3"
    },
    "language_info": {
      "name": "python"
    }
  },
  "nbformat": 4,
  "nbformat_minor": 5
}
