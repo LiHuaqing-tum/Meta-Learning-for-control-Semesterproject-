{
  "cells": [
    {
      "cell_type": "code",
      "execution_count": 2,
      "id": "2f32253c",
      "metadata": {
        "colab": {
          "base_uri": "https://localhost:8080/"
        },
        "id": "2f32253c",
        "outputId": "038f0567-c9fa-4371-b868-6ee99213d514"
      },
      "outputs": [
        {
          "output_type": "stream",
          "name": "stdout",
          "text": [
            "/content/Meta-Learning-for-control-Semesterproject-\n",
            "From https://github.com/LiHuaqing-tum/Meta-Learning-for-control-Semesterproject-\n",
            " * branch            main       -> FETCH_HEAD\n",
            "Already up to date.\n",
            "/content\n",
            "/content/Meta-Learning-for-control-Semesterproject-\n"
          ]
        }
      ],
      "source": [
        "%pip install -q --upgrade pip\n",
        "%pip install -q \"jax[cuda12]\" -f https://storage.googleapis.com/jax-releases/jax_cuda_releases.html\n",
        "%pip install -q optax matplotlib\n",
        "%pip install -q mujoco-mjx\n",
        "%pip install -q stljax\n",
        "import os\n",
        "\n",
        "repo_url = \"https://github.com/LiHuaqing-tum/Meta-Learning-for-control-Semesterproject-.git\"\n",
        "repo_name = \"Meta-Learning-for-control-Semesterproject-\"\n",
        "\n",
        "if not os.path.exists(repo_name):\n",
        "    !git clone {repo_url}\n",
        "else:\n",
        "    %cd {repo_name}\n",
        "    !git pull origin main\n",
        "    %cd ..\n",
        "\n",
        "%cd {repo_name}\n",
        "\n"
      ]
    },
    {
      "cell_type": "code",
      "source": [
        "import jax, mujoco, optax\n",
        "print(\"✅ Setup complete!\")\n",
        "print(\"JAX version:\", jax.__version__)\n",
        "print(\"MuJoCo version:\", mujoco.__version__)\n"
      ],
      "metadata": {
        "colab": {
          "base_uri": "https://localhost:8080/"
        },
        "id": "oeK258jS06c1",
        "outputId": "9bdb058f-1865-4df3-bfac-bec41216dd49"
      },
      "id": "oeK258jS06c1",
      "execution_count": 3,
      "outputs": [
        {
          "output_type": "stream",
          "name": "stdout",
          "text": [
            "✅ Setup complete!\n",
            "JAX version: 0.5.3\n",
            "MuJoCo version: 3.3.6\n"
          ]
        }
      ]
    },
    {
      "cell_type": "code",
      "execution_count": 4,
      "id": "eb3c3bb7",
      "metadata": {
        "colab": {
          "base_uri": "https://localhost:8080/"
        },
        "id": "eb3c3bb7",
        "outputId": "c29756fe-1d5e-4188-f618-e3913314af91"
      },
      "outputs": [
        {
          "output_type": "stream",
          "name": "stdout",
          "text": [
            "Failed to import warp: No module named 'warp'\n",
            "Failed to import mujoco.mjx.third_party.mujoco_warp as mujoco_warp: No module named 'warp'\n"
          ]
        },
        {
          "output_type": "stream",
          "name": "stderr",
          "text": [
            "/usr/local/lib/python3.12/dist-packages/jupyter_client/session.py:203: DeprecationWarning: datetime.datetime.utcnow() is deprecated and scheduled for removal in a future version. Use timezone-aware objects to represent datetimes in UTC: datetime.datetime.now(datetime.UTC).\n",
            "  return datetime.utcnow().replace(tzinfo=utc)\n"
          ]
        }
      ],
      "source": [
        "import sys\n",
        "import pathlib\n",
        "\n",
        "import jax\n",
        "import jax.numpy as jnp\n",
        "from mujoco import mjx\n",
        "\n",
        "import matplotlib.pyplot as plt\n",
        "from stljax.formula import *\n",
        "from stljax.viz import *\n",
        "import optax\n",
        "import functools"
      ]
    },
    {
      "cell_type": "code",
      "source": [
        "\n",
        "from pathlib import Path\n",
        "\n",
        "repo_root = Path.cwd()\n",
        "xml_path  = repo_root / \"task\" / \"scenes\" / \"panda_push_scene_without_obstacle.xml\"\n",
        "from src.environment.SImpleReacherEnv import SimpleReacherEnv\n"
      ],
      "metadata": {
        "id": "caOECsV0rRyv"
      },
      "id": "caOECsV0rRyv",
      "execution_count": 5,
      "outputs": []
    },
    {
      "cell_type": "code",
      "execution_count": 6,
      "id": "7f7d60d9",
      "metadata": {
        "id": "7f7d60d9"
      },
      "outputs": [],
      "source": [
        "def sdist_circle_2d(p_xy, center_xy, radius):\n",
        "\n",
        "    return jnp.linalg.norm(p_xy - center_xy, axis=-1) - radius"
      ]
    },
    {
      "cell_type": "code",
      "execution_count": 7,
      "id": "19a9de4f",
      "metadata": {
        "id": "19a9de4f"
      },
      "outputs": [],
      "source": [
        "\n",
        "GREEN_C = jnp.array([0.0, 0.90])\n",
        "GREEN_H = jnp.array([0.08, 0.08])\n",
        "R_OBS   = jnp.linalg.norm(GREEN_H)\n",
        "\n",
        "RED_C   = jnp.array([0.0, 1.40])\n",
        "RED_H   = jnp.array([0.15, 0.15])\n",
        "R_GOAL  = jnp.minimum(RED_H[0], RED_H[1])\n",
        "\n",
        "BLOCK_H = jnp.array([0.06, 0.06])\n",
        "R_BLOCK = jnp.linalg.norm(BLOCK_H)\n",
        "\n",
        "\n",
        "def avoid_green_signal_circ_circ(states_xy, obstacle_center_xy, safe_margin=0.02):\n",
        "    req = R_BLOCK + R_OBS + safe_margin\n",
        "    return jnp.linalg.norm(states_xy - obstacle_center_xy, axis=-1) - req\n",
        "\n",
        "\n",
        "def reach_red_signal_circ_goal(states_xy, target_center_xy, inside_tol=0.02):\n",
        "    req_in = jnp.maximum(R_GOAL - (R_BLOCK + inside_tol), 0.0)\n",
        "    return req_in - jnp.linalg.norm(states_xy - target_center_xy, axis=-1)"
      ]
    },
    {
      "cell_type": "code",
      "execution_count": 8,
      "id": "0e05baaf",
      "metadata": {
        "id": "0e05baaf"
      },
      "outputs": [],
      "source": [
        "\n",
        "\n",
        "\n",
        "env = SimpleReacherEnv(\n",
        "    model_path=str(repo_root / \"task\" / \"scenes\" / \"panda_push_scene_without_obstacle.xml\"),\n",
        "    return_full_qpos_qvel=False,\n",
        ")\n",
        "_ = env.reset(jax.random.PRNGKey(0))\n",
        "initial_data = env.d\n",
        "\n",
        "\n",
        "obstacle_center_xy = env.obstacle_center_xy\n",
        "target_center_xy = env.target_center_xy\n",
        "\n",
        "\n",
        "# STL predicates that capture the current obstacle/target centers\n",
        "def build_spec(obstacle_center_xy, target_center_xy, safe_margin=0.02, inside_tol=0.02):\n",
        "    avoid_pred = Predicate(\n",
        "        \"avoid_green_margin\",\n",
        "        lambda traj_xy: avoid_green_signal_circ_circ(traj_xy, obstacle_center_xy, safe_margin)\n",
        "    )\n",
        "    reach_pred = Predicate(\n",
        "        \"reach_red_margin\",\n",
        "        lambda traj_xy: reach_red_signal_circ_goal(traj_xy, target_center_xy, inside_tol)\n",
        "    )\n",
        "    avoid_atom = (avoid_pred > 0.0)\n",
        "    reach_atom = (reach_pred > 0.0)\n",
        "    return avoid_atom, reach_atom\n",
        "\n",
        "avoid_atom, reach_atom = build_spec(obstacle_center_xy, target_center_xy)\n",
        "\n",
        "\n",
        "\n",
        "horizon = 150  # Parameter we need to define\n",
        "\n",
        "\n",
        "\n",
        "spec = Always(avoid_atom, interval=(0, horizon)) & Eventually(reach_atom, interval=(0, horizon))"
      ]
    },
    {
      "cell_type": "code",
      "execution_count": 9,
      "id": "ec5e7db4",
      "metadata": {
        "id": "ec5e7db4"
      },
      "outputs": [],
      "source": [
        "\n",
        "obs_dim = env.get_observation_space()[0]\n",
        "act_dim = env.get_action_space()[0]\n",
        "\n",
        "\n",
        "layer_sizes = [obs_dim, 64, 64, act_dim]\n",
        "\n",
        "def init_layer_params(key, in_dim, out_dim):\n",
        "    w_key, b_key = jax.random.split(key)\n",
        "    glorot = jnp.sqrt(2.0 / (in_dim + out_dim))\n",
        "    W = glorot * jax.random.normal(w_key, (out_dim, in_dim))\n",
        "    b = jnp.zeros((out_dim,))\n",
        "    return W, b\n",
        "\n",
        "def init_policy_params(key, sizes):\n",
        "    keys = jax.random.split(key, len(sizes) - 1)\n",
        "    return [init_layer_params(k, sizes[i], sizes[i + 1]) for i, k in enumerate(keys)]\n",
        "\n",
        "policy_key = jax.random.PRNGKey(42)\n",
        "policy_params = init_policy_params(policy_key, layer_sizes)\n",
        "\n",
        "\n",
        "tau_lo = env.ctrlrange_jnp[:, 0] if env.ctrlrange_jnp.size else None\n",
        "tau_hi = env.ctrlrange_jnp[:, 1] if env.ctrlrange_jnp.size else None\n",
        "\n",
        "def policy_apply(params, obs):\n",
        "    x = obs\n",
        "    for W, b in params[:-1]:\n",
        "        x = jnp.tanh(W @ x + b)\n",
        "    W, b = params[-1]\n",
        "    raw = jnp.tanh(W @ x + b)\n",
        "    if tau_lo is not None:\n",
        "        raw_tau = tau_lo + 0.5 * (raw + 1.0) * (tau_hi - tau_lo)\n",
        "        return 0.2 * raw_tau          # 需要的话再调整系数\n",
        "    return raw\n",
        "\n",
        "\n",
        "def block_xy_from_data(data: mjx.Data) -> jnp.ndarray:\n",
        "    return data.site_xpos[env.site_id_block, :2]\n",
        "\n",
        "def rollout_block_xy(params, data0):\n",
        "    obs0 = env._obs_from_data(data0)\n",
        "    xy0 = block_xy_from_data(data0)\n",
        "\n",
        "    def body_fn(carry, _):\n",
        "        data, obs = carry\n",
        "        act = policy_apply(params, obs)\n",
        "        data_new = data.replace(ctrl=act)\n",
        "        data_new = mjx.step(env.m, data_new)\n",
        "        obs_new = env._obs_from_data(data_new)\n",
        "        xy_new = block_xy_from_data(data_new)\n",
        "        return (data_new, obs_new), (obs_new, act, xy_new)\n",
        "\n",
        "    (_, _), (obs_seq, act_seq, xy_seq) = jax.lax.scan(\n",
        "        body_fn,\n",
        "        (data0, obs0),\n",
        "        jnp.arange(horizon)\n",
        "    )\n",
        "\n",
        "    obs_traj = jnp.vstack([obs0, obs_seq])            # (horizon+1, obs_dim)\n",
        "    xy_traj = jnp.vstack([xy0, xy_seq])               # (horizon+1, 2)\n",
        "    return xy_traj, obs_traj, act_seq\n",
        "\n",
        "def loss_fn(params):\n",
        "    traj_xy, _, _ = rollout_block_xy(params, initial_data)\n",
        "\n",
        "    rob = spec.robustness(traj_xy)\n",
        "    return jax.nn.relu(-rob)\n"
      ]
    },
    {
      "cell_type": "code",
      "source": [
        "from jax import jacfwd\n",
        "from jax.flatten_util import ravel_pytree\n",
        "import optax"
      ],
      "metadata": {
        "id": "2ISgF4_Wg-I3"
      },
      "id": "2ISgF4_Wg-I3",
      "execution_count": 10,
      "outputs": []
    },
    {
      "cell_type": "code",
      "execution_count": null,
      "id": "80a00c9e",
      "metadata": {
        "colab": {
          "base_uri": "https://localhost:8080/"
        },
        "id": "80a00c9e",
        "outputId": "78e840b8-4029-4e2f-e68c-8188446a9f24"
      },
      "outputs": [
        {
          "output_type": "stream",
          "name": "stderr",
          "text": [
            "/usr/local/lib/python3.12/dist-packages/jax/_src/interpreters/xla.py:132: RuntimeWarning: overflow encountered in cast\n",
            "  return np.asarray(x, dtypes.canonicalize_dtype(x.dtype))\n"
          ]
        },
        {
          "output_type": "stream",
          "name": "stdout",
          "text": [
            "step 0001 | STL loss -0.2180 robustness\n",
            "step 0002 | STL loss nan robustness\n"
          ]
        }
      ],
      "source": [
        "optimizer = optax.adam(1e-3)\n",
        "opt_state = optimizer.init(policy_params)\n",
        "\n",
        "@jax.jit\n",
        "def update(params, opt_state):\n",
        "    loss_val = loss_fn(params)\n",
        "    flat_params, unravel = ravel_pytree(params)\n",
        "    def loss_flat(p):\n",
        "        return loss_fn(unravel(p))\n",
        "    grad_flat = jacfwd(loss_flat)(flat_params)\n",
        "    grads = unravel(grad_flat)\n",
        "    updates, opt_state = optimizer.update(grads, opt_state, params)\n",
        "    params = optax.apply_updates(params, updates)\n",
        "    return params, opt_state, loss_val\n",
        "\n",
        "\n",
        "num_steps = 2000\n",
        "for step in range(1, num_steps + 1):\n",
        "    policy_params, opt_state, train_loss = update(policy_params, opt_state)\n",
        "\n",
        "    print(f\"step {step:04d} | STL loss {-train_loss:.4f} robustness\")\n"
      ]
    },
    {
      "cell_type": "code",
      "source": [],
      "metadata": {
        "id": "IKEqdI3wLpLD"
      },
      "id": "IKEqdI3wLpLD",
      "execution_count": 24,
      "outputs": []
    },
    {
      "cell_type": "code",
      "source": [],
      "metadata": {
        "id": "uZmzm3KnMBvP"
      },
      "id": "uZmzm3KnMBvP",
      "execution_count": null,
      "outputs": []
    }
  ],
  "metadata": {
    "language_info": {
      "name": "python"
    },
    "colab": {
      "provenance": [],
      "gpuType": "T4"
    },
    "kernelspec": {
      "name": "python3",
      "display_name": "Python 3"
    },
    "accelerator": "GPU"
  },
  "nbformat": 4,
  "nbformat_minor": 5
}