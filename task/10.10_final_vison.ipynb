{
  "cells": [
    {
      "cell_type": "code",
      "execution_count": null,
      "id": "2f32253c",
      "metadata": {
        "colab": {
          "base_uri": "https://localhost:8080/"
        },
        "id": "2f32253c",
        "outputId": "cf604bab-cab5-4635-fef8-f3501e8e59d2"
      },
      "outputs": [
        {
          "output_type": "stream",
          "name": "stdout",
          "text": [
            "Cloning into 'Meta-Learning-for-control-Semesterproject-'...\n",
            "remote: Enumerating objects: 165, done.\u001b[K\n",
            "remote: Counting objects: 100% (165/165), done.\u001b[K\n",
            "remote: Compressing objects: 100% (144/144), done.\u001b[K\n",
            "remote: Total 165 (delta 33), reused 121 (delta 16), pack-reused 0 (from 0)\u001b[K\n",
            "Receiving objects: 100% (165/165), 4.84 MiB | 3.36 MiB/s, done.\n",
            "Resolving deltas: 100% (33/33), done.\n",
            "/content/Meta-Learning-for-control-Semesterproject-/Meta-Learning-for-control-Semesterproject-/Meta-Learning-for-control-Semesterproject-/Meta-Learning-for-control-Semesterproject-/Meta-Learning-for-control-Semesterproject-/Meta-Learning-for-control-Semesterproject-/Meta-Learning-for-control-Semesterproject-/Meta-Learning-for-control-Semesterproject-/Meta-Learning-for-control-Semesterproject-/Meta-Learning-for-control-Semesterproject-\n"
          ]
        }
      ],
      "source": [
        "%pip install -q --upgrade pip\n",
        "%pip install -q \"jax[cuda12]\" -f https://storage.googleapis.com/jax-releases/jax_cuda_releases.html\n",
        "%pip install -q optax matplotlib\n",
        "%pip install -q mujoco-mjx\n",
        "%pip install -q stljax\n",
        "import os\n",
        "\n",
        "repo_url = \"https://github.com/LiHuaqing-tum/Meta-Learning-for-control-Semesterproject-.git\"\n",
        "repo_name = \"Meta-Learning-for-control-Semesterproject-\"\n",
        "\n",
        "if not os.path.exists(repo_name):\n",
        "    !git clone {repo_url}\n",
        "else:\n",
        "    %cd {repo_name}\n",
        "    !git pull origin main\n",
        "    %cd ..\n",
        "\n",
        "%cd {repo_name}\n",
        "\n"
      ]
    },
    {
      "cell_type": "code",
      "source": [
        "import jax, mujoco, optax\n",
        "print(\"✅ Setup complete!\")\n",
        "print(\"JAX version:\", jax.__version__)\n",
        "print(\"MuJoCo version:\", mujoco.__version__)\n"
      ],
      "metadata": {
        "colab": {
          "base_uri": "https://localhost:8080/"
        },
        "id": "oeK258jS06c1",
        "outputId": "05c6a920-5acf-4cd7-bf77-408aea8f2035"
      },
      "id": "oeK258jS06c1",
      "execution_count": null,
      "outputs": [
        {
          "output_type": "stream",
          "name": "stdout",
          "text": [
            "✅ Setup complete!\n",
            "JAX version: 0.5.3\n",
            "MuJoCo version: 3.3.6\n"
          ]
        }
      ]
    },
    {
      "cell_type": "code",
      "execution_count": null,
      "id": "eb3c3bb7",
      "metadata": {
        "id": "eb3c3bb7"
      },
      "outputs": [],
      "source": [
        "import sys\n",
        "import pathlib\n",
        "\n",
        "import jax\n",
        "import jax.numpy as jnp\n",
        "from mujoco import mjx\n",
        "\n",
        "import matplotlib.pyplot as plt\n",
        "from stljax.formula import *\n",
        "from stljax.viz import *\n",
        "import optax\n",
        "import functools"
      ]
    },
    {
      "cell_type": "code",
      "source": [
        "\n",
        "from pathlib import Path\n",
        "\n",
        "repo_root = Path.cwd()\n",
        "xml_path  = repo_root / \"task\" / \"scenes\" / \"panda_push_scene_without_obstacle.xml\"\n",
        "from src.environment.SImpleReacherEnv import SimpleReacherEnv\n"
      ],
      "metadata": {
        "id": "caOECsV0rRyv"
      },
      "id": "caOECsV0rRyv",
      "execution_count": null,
      "outputs": []
    },
    {
      "cell_type": "code",
      "execution_count": null,
      "id": "7f7d60d9",
      "metadata": {
        "id": "7f7d60d9"
      },
      "outputs": [],
      "source": [
        "def sdist_circle_2d(p_xy, center_xy, radius):\n",
        "\n",
        "    return jnp.linalg.norm(p_xy - center_xy, axis=-1) - radius"
      ]
    },
    {
      "cell_type": "code",
      "source": [
        "import jax\n",
        "import jax.numpy as jnp\n",
        "GREEN_C = jnp.array([0.0, 0.90])\n",
        "GREEN_H = jnp.array([0.08, 0.08])\n",
        "R_OBS   = jnp.linalg.norm(GREEN_H)\n",
        "\n",
        "RED_C   = jnp.array([0.0, 1.40])\n",
        "RED_H   = jnp.array([0.15, 0.15])\n",
        "R_GOAL  = jnp.minimum(RED_H[0], RED_H[1])\n",
        "\n",
        "BLOCK_H = jnp.array([0.06, 0.06])\n",
        "R_BLOCK = jnp.linalg.norm(BLOCK_H)\n",
        "\n",
        "env = SimpleReacherEnv(\n",
        "    model_path=str(repo_root / \"task\" / \"scenes\" / \"panda_push_scene_without_obstacle.xml\"),\n",
        "    return_full_qpos_qvel=False,\n",
        ")\n",
        "_ = env.reset(jax.random.PRNGKey(0))\n",
        "initial_data = env.d\n",
        "\n",
        "\n",
        "obstacle_center_xy = env.obstacle_center_xy\n",
        "target_center_xy = env.target_center_xy\n",
        "def safe_norm(v, eps=1e-8):\n",
        "    return jnp.sqrt(jnp.maximum(jnp.sum(v*v, axis=-1), eps))\n",
        "\n",
        "def avoid_green_signal_circ_circ(traj_xy, obstacle_center_xy, safe_margin, eps=1e-8):\n",
        "\n",
        "    dist = safe_norm(traj_xy - obstacle_center_xy, eps=eps)\n",
        "    return dist - safe_margin\n",
        "\n",
        "def reach_red_signal_circ_goal(traj_xy, target_center_xy, inside_tol, eps=1e-8):\n",
        "\n",
        "    dist = safe_norm(traj_xy - target_center_xy, eps=eps)\n",
        "    return inside_tol - dist\n",
        "\n",
        "def softmax_reduce_max(x, beta=50.0):\n",
        "    m = jnp.max(x); return m + jnp.log(jnp.mean(jnp.exp(beta*(x-m))))/beta\n",
        "def softmin_reduce_min(x, beta=50.0):\n",
        "    return -softmax_reduce_max(-x, beta)\n",
        "\n",
        "def spec_robustness(traj_xy, obstacle_center_xy, target_center_xy,\n",
        "                    safe_margin=0.02, inside_tol=0.02, H:int=1):\n",
        "\n",
        "    window = traj_xy[1:H+1]\n",
        "\n",
        "\n",
        "    avoid_t = jax.vmap(lambda p: avoid_green_signal_circ_circ(p, obstacle_center_xy, safe_margin))(window)\n",
        "    reach_t = jax.vmap(lambda p: reach_red_signal_circ_goal(p, target_center_xy, inside_tol))(window)\n",
        "\n",
        "    rho_always   = softmin_reduce_min(avoid_t,   beta=50.0)   # □\n",
        "    rho_eventual = softmax_reduce_max(reach_t,   beta=50.0)   # ◇\n",
        "    return jnp.minimum(rho_always, rho_eventual)  # &\n",
        "\n",
        "\n",
        "horizon = 5"
      ],
      "metadata": {
        "id": "KraTTD9AqAS0"
      },
      "id": "KraTTD9AqAS0",
      "execution_count": null,
      "outputs": []
    },
    {
      "cell_type": "code",
      "source": [
        "print(obs_dim)\n",
        "print(act_dim)"
      ],
      "metadata": {
        "colab": {
          "base_uri": "https://localhost:8080/"
        },
        "id": "84B2o4pjOr-p",
        "outputId": "f595b246-d8bd-4c46-d6c9-333ead5d808e"
      },
      "id": "84B2o4pjOr-p",
      "execution_count": null,
      "outputs": [
        {
          "output_type": "stream",
          "name": "stdout",
          "text": [
            "8\n",
            "7\n"
          ]
        }
      ]
    },
    {
      "cell_type": "code",
      "source": [
        "print(tau_lo)\n",
        "print(tau_hi)"
      ],
      "metadata": {
        "colab": {
          "base_uri": "https://localhost:8080/"
        },
        "id": "J3nQYcCsO78K",
        "outputId": "992f39c9-5929-4472-fcde-2d00304958ef"
      },
      "id": "J3nQYcCsO78K",
      "execution_count": null,
      "outputs": [
        {
          "output_type": "stream",
          "name": "stdout",
          "text": [
            "[-87. -87. -87. -87. -12. -12. -12.]\n",
            "[87. 87. 87. 87. 12. 12. 12.]\n"
          ]
        }
      ]
    },
    {
      "cell_type": "code",
      "source": [
        "print(env.site_id_block)"
      ],
      "metadata": {
        "colab": {
          "base_uri": "https://localhost:8080/"
        },
        "id": "00qa0lEDPE7P",
        "outputId": "13a65b5a-fd74-41d5-a8f4-b42bbc92ca74"
      },
      "id": "00qa0lEDPE7P",
      "execution_count": null,
      "outputs": [
        {
          "output_type": "stream",
          "name": "stdout",
          "text": [
            "0\n"
          ]
        }
      ]
    },
    {
      "cell_type": "code",
      "execution_count": null,
      "id": "ec5e7db4",
      "metadata": {
        "id": "ec5e7db4"
      },
      "outputs": [],
      "source": [
        "\n",
        "obs_dim = env.get_observation_space()[0]\n",
        "act_dim = env.get_action_space()[0]\n",
        "\n",
        "\n",
        "layer_sizes = [obs_dim, 64, 64, act_dim]\n",
        "\n",
        "def init_layer_params(key, in_dim, out_dim):\n",
        "    w_key, b_key = jax.random.split(key)\n",
        "    glorot = jnp.sqrt(2.0 / (in_dim + out_dim))\n",
        "    W = glorot * jax.random.normal(w_key, (out_dim, in_dim))\n",
        "    b = jnp.zeros((out_dim,))\n",
        "    return W, b\n",
        "\n",
        "def init_policy_params(key, sizes):\n",
        "    keys = jax.random.split(key, len(sizes) - 1)\n",
        "    return [init_layer_params(k, sizes[i], sizes[i + 1]) for i, k in enumerate(keys)]\n",
        "\n",
        "policy_key = jax.random.PRNGKey(42)\n",
        "policy_params = init_policy_params(policy_key, layer_sizes)\n",
        "\n",
        "\n",
        "tau_lo = env.ctrlrange_jnp[:, 0] if env.ctrlrange_jnp.size else None\n",
        "tau_hi = env.ctrlrange_jnp[:, 1] if env.ctrlrange_jnp.size else None\n",
        "\n",
        "def policy_apply(params, obs):\n",
        "    x = obs\n",
        "    for W, b in params[:-1]:\n",
        "        x = jnp.tanh(W @ x + b)\n",
        "    W, b = params[-1]\n",
        "    raw = jnp.tanh(W @ x + b)\n",
        "    if tau_lo is not None:\n",
        "        raw_tau = tau_lo + 0.5 * (raw + 1.0) * (tau_hi - tau_lo)\n",
        "        return  raw_tau\n",
        "    return raw\n",
        "\n",
        "\n",
        "def block_xy_from_data(data: mjx.Data) -> jnp.ndarray:\n",
        "    return data.site_xpos[env.site_id_block, :2]\n",
        "\n",
        "def rollout_block_xy(params, data0):\n",
        "    obs0 = env._obs_from_data(data0)\n",
        "    xy0 = block_xy_from_data(data0)\n",
        "\n",
        "    def body_fn(carry, _):\n",
        "        data, obs = carry\n",
        "        act = policy_apply(params, obs)\n",
        "        data_new = data.replace(ctrl=act)\n",
        "        data_new = mjx.step(env.m, data_new)\n",
        "        obs_new = env._obs_from_data(data_new)\n",
        "        xy_new = block_xy_from_data(data_new)\n",
        "        return (data_new, obs_new), (obs_new, act, xy_new)\n",
        "\n",
        "    (_, _), (obs_seq, act_seq, xy_seq) = jax.lax.scan(\n",
        "        body_fn,\n",
        "        (data0, obs0),\n",
        "        jnp.arange(horizon)\n",
        "    )\n",
        "\n",
        "    obs_traj = jnp.vstack([obs0, obs_seq])            # (horizon+1, obs_dim)\n",
        "    xy_traj = jnp.vstack([xy0, xy_seq])               # (horizon+1, 2)\n",
        "    return xy_traj, obs_traj, act_seq\n",
        "\n",
        "\n",
        "def loss_fn(params):\n",
        "    traj_xy, _, _ = rollout_block_xy(params, initial_data)\n",
        "    rob = spec_robustness(traj_xy, obstacle_center_xy, target_center_xy, H=horizon)\n",
        "    return jax.nn.relu(-rob)\n"
      ]
    },
    {
      "cell_type": "code",
      "source": [
        "from jax import jacfwd\n",
        "from jax.flatten_util import ravel_pytree\n",
        "import optax"
      ],
      "metadata": {
        "id": "2ISgF4_Wg-I3"
      },
      "id": "2ISgF4_Wg-I3",
      "execution_count": null,
      "outputs": []
    },
    {
      "cell_type": "code",
      "execution_count": null,
      "id": "80a00c9e",
      "metadata": {
        "colab": {
          "base_uri": "https://localhost:8080/",
          "height": 1000
        },
        "id": "80a00c9e",
        "outputId": "2fdb520c-4c3b-4fac-d83b-b5547b746d29"
      },
      "outputs": [
        {
          "output_type": "stream",
          "name": "stdout",
          "text": [
            "step 0001 | STL loss -0.3800 robustness | ||Δθ||2=3.727e-15  max|Δ|=1.041e-15  ||θ||2=9.509e+00  W0[0,0]=-0.03669  b0[0]=-0.00000\n",
            "step 0002 | STL loss -0.3800 robustness | ||Δθ||2=1.850e-15  max|Δ|=4.996e-16  ||θ||2=9.509e+00  W0[0,0]=-0.03669  b0[0]=-0.00000\n",
            "step 0003 | STL loss -0.3800 robustness | ||Δθ||2=1.816e-15  max|Δ|=4.996e-16  ||θ||2=9.509e+00  W0[0,0]=-0.03669  b0[0]=-0.00000\n",
            "step 0004 | STL loss -0.3800 robustness | ||Δθ||2=1.908e-15  max|Δ|=6.939e-16  ||θ||2=9.509e+00  W0[0,0]=-0.03669  b0[0]=-0.00000\n",
            "step 0005 | STL loss -0.3800 robustness | ||Δθ||2=1.886e-15  max|Δ|=5.274e-16  ||θ||2=9.509e+00  W0[0,0]=-0.03669  b0[0]=-0.00000\n",
            "step 0006 | STL loss -0.3800 robustness | ||Δθ||2=1.519e-15  max|Δ|=4.441e-16  ||θ||2=9.509e+00  W0[0,0]=-0.03669  b0[0]=-0.00000\n",
            "step 0007 | STL loss -0.3800 robustness | ||Δθ||2=1.520e-15  max|Δ|=3.886e-16  ||θ||2=9.509e+00  W0[0,0]=-0.03669  b0[0]=-0.00000\n",
            "step 0008 | STL loss -0.3800 robustness | ||Δθ||2=1.554e-15  max|Δ|=4.718e-16  ||θ||2=9.509e+00  W0[0,0]=-0.03669  b0[0]=-0.00000\n",
            "step 0009 | STL loss -0.3800 robustness | ||Δθ||2=1.294e-15  max|Δ|=3.608e-16  ||θ||2=9.509e+00  W0[0,0]=-0.03669  b0[0]=-0.00000\n",
            "step 0010 | STL loss -0.3800 robustness | ||Δθ||2=1.402e-15  max|Δ|=4.788e-16  ||θ||2=9.509e+00  W0[0,0]=-0.03669  b0[0]=-0.00000\n",
            "step 0011 | STL loss -0.3800 robustness | ||Δθ||2=1.203e-15  max|Δ|=4.094e-16  ||θ||2=9.509e+00  W0[0,0]=-0.03669  b0[0]=-0.00000\n",
            "step 0012 | STL loss -0.3800 robustness | ||Δθ||2=1.044e-15  max|Δ|=3.227e-16  ||θ||2=9.509e+00  W0[0,0]=-0.03669  b0[0]=-0.00000\n",
            "step 0013 | STL loss -0.3800 robustness | ||Δθ||2=1.092e-15  max|Δ|=2.776e-16  ||θ||2=9.509e+00  W0[0,0]=-0.03669  b0[0]=-0.00000\n",
            "step 0014 | STL loss -0.3800 robustness | ||Δθ||2=9.616e-16  max|Δ|=2.429e-16  ||θ||2=9.509e+00  W0[0,0]=-0.03669  b0[0]=-0.00000\n",
            "step 0015 | STL loss -0.3800 robustness | ||Δθ||2=1.001e-15  max|Δ|=2.116e-16  ||θ||2=9.509e+00  W0[0,0]=-0.03669  b0[0]=-0.00000\n",
            "step 0016 | STL loss -0.3800 robustness | ||Δθ||2=1.061e-15  max|Δ|=2.914e-16  ||θ||2=9.509e+00  W0[0,0]=-0.03669  b0[0]=-0.00000\n",
            "step 0017 | STL loss -0.3800 robustness | ||Δθ||2=1.113e-15  max|Δ|=2.776e-16  ||θ||2=9.509e+00  W0[0,0]=-0.03669  b0[0]=-0.00000\n",
            "step 0018 | STL loss -0.3800 robustness | ||Δθ||2=9.845e-16  max|Δ|=2.498e-16  ||θ||2=9.509e+00  W0[0,0]=-0.03669  b0[0]=-0.00000\n",
            "step 0019 | STL loss -0.3800 robustness | ||Δθ||2=1.059e-15  max|Δ|=2.082e-16  ||θ||2=9.509e+00  W0[0,0]=-0.03669  b0[0]=-0.00000\n",
            "step 0020 | STL loss -0.3800 robustness | ||Δθ||2=1.169e-15  max|Δ|=2.498e-16  ||θ||2=9.509e+00  W0[0,0]=-0.03669  b0[0]=-0.00000\n",
            "step 0021 | STL loss -0.3800 robustness | ||Δθ||2=1.032e-15  max|Δ|=2.220e-16  ||θ||2=9.509e+00  W0[0,0]=-0.03669  b0[0]=-0.00000\n",
            "step 0022 | STL loss -0.3800 robustness | ||Δθ||2=9.384e-16  max|Δ|=1.943e-16  ||θ||2=9.509e+00  W0[0,0]=-0.03669  b0[0]=-0.00000\n",
            "step 0023 | STL loss -0.3800 robustness | ||Δθ||2=1.018e-15  max|Δ|=2.359e-16  ||θ||2=9.509e+00  W0[0,0]=-0.03669  b0[0]=-0.00000\n",
            "step 0024 | STL loss -0.3800 robustness | ||Δθ||2=1.006e-15  max|Δ|=2.220e-16  ||θ||2=9.509e+00  W0[0,0]=-0.03669  b0[0]=-0.00000\n",
            "step 0025 | STL loss -0.3800 robustness | ||Δθ||2=1.006e-15  max|Δ|=3.192e-16  ||θ||2=9.509e+00  W0[0,0]=-0.03669  b0[0]=-0.00000\n",
            "step 0026 | STL loss -0.3800 robustness | ||Δθ||2=1.070e-15  max|Δ|=3.053e-16  ||θ||2=9.509e+00  W0[0,0]=-0.03669  b0[0]=-0.00000\n",
            "step 0027 | STL loss -0.3800 robustness | ||Δθ||2=1.126e-15  max|Δ|=2.776e-16  ||θ||2=9.509e+00  W0[0,0]=-0.03669  b0[0]=-0.00000\n",
            "step 0028 | STL loss -0.3800 robustness | ||Δθ||2=1.036e-15  max|Δ|=2.637e-16  ||θ||2=9.509e+00  W0[0,0]=-0.03669  b0[0]=-0.00000\n",
            "step 0029 | STL loss -0.3800 robustness | ||Δθ||2=1.062e-15  max|Δ|=2.637e-16  ||θ||2=9.509e+00  W0[0,0]=-0.03669  b0[0]=-0.00000\n",
            "step 0030 | STL loss -0.3800 robustness | ||Δθ||2=1.070e-15  max|Δ|=2.220e-16  ||θ||2=9.509e+00  W0[0,0]=-0.03669  b0[0]=-0.00000\n",
            "step 0031 | STL loss -0.3800 robustness | ||Δθ||2=1.097e-15  max|Δ|=2.220e-16  ||θ||2=9.509e+00  W0[0,0]=-0.03669  b0[0]=-0.00000\n",
            "step 0032 | STL loss -0.3800 robustness | ||Δθ||2=1.069e-15  max|Δ|=2.359e-16  ||θ||2=9.509e+00  W0[0,0]=-0.03669  b0[0]=-0.00000\n",
            "step 0033 | STL loss -0.3800 robustness | ||Δθ||2=9.944e-16  max|Δ|=2.359e-16  ||θ||2=9.509e+00  W0[0,0]=-0.03669  b0[0]=-0.00000\n",
            "step 0034 | STL loss -0.3800 robustness | ||Δθ||2=1.019e-15  max|Δ|=2.359e-16  ||θ||2=9.509e+00  W0[0,0]=-0.03669  b0[0]=-0.00000\n",
            "step 0035 | STL loss -0.3800 robustness | ||Δθ||2=1.112e-15  max|Δ|=3.469e-16  ||θ||2=9.509e+00  W0[0,0]=-0.03669  b0[0]=-0.00000\n",
            "step 0036 | STL loss -0.3800 robustness | ||Δθ||2=1.159e-15  max|Δ|=4.025e-16  ||θ||2=9.509e+00  W0[0,0]=-0.03669  b0[0]=-0.00000\n",
            "step 0037 | STL loss -0.3800 robustness | ||Δθ||2=1.048e-15  max|Δ|=3.886e-16  ||θ||2=9.509e+00  W0[0,0]=-0.03669  b0[0]=-0.00000\n",
            "step 0038 | STL loss -0.3800 robustness | ||Δθ||2=1.119e-15  max|Δ|=3.469e-16  ||θ||2=9.509e+00  W0[0,0]=-0.03669  b0[0]=0.00000\n",
            "step 0039 | STL loss -0.3800 robustness | ||Δθ||2=1.167e-15  max|Δ|=3.053e-16  ||θ||2=9.509e+00  W0[0,0]=-0.03669  b0[0]=0.00000\n",
            "step 0040 | STL loss -0.3800 robustness | ||Δθ||2=1.181e-15  max|Δ|=3.053e-16  ||θ||2=9.509e+00  W0[0,0]=-0.03669  b0[0]=0.00000\n",
            "step 0041 | STL loss -0.3800 robustness | ||Δθ||2=1.198e-15  max|Δ|=3.331e-16  ||θ||2=9.509e+00  W0[0,0]=-0.03669  b0[0]=0.00000\n",
            "step 0042 | STL loss -0.3800 robustness | ||Δθ||2=1.090e-15  max|Δ|=3.053e-16  ||θ||2=9.509e+00  W0[0,0]=-0.03669  b0[0]=0.00000\n",
            "step 0043 | STL loss -0.3800 robustness | ||Δθ||2=1.073e-15  max|Δ|=3.192e-16  ||θ||2=9.509e+00  W0[0,0]=-0.03669  b0[0]=0.00000\n",
            "step 0044 | STL loss -0.3800 robustness | ||Δθ||2=1.089e-15  max|Δ|=3.192e-16  ||θ||2=9.509e+00  W0[0,0]=-0.03669  b0[0]=0.00000\n",
            "step 0045 | STL loss -0.3800 robustness | ||Δθ||2=1.002e-15  max|Δ|=2.914e-16  ||θ||2=9.509e+00  W0[0,0]=-0.03669  b0[0]=0.00000\n",
            "step 0046 | STL loss -0.3800 robustness | ||Δθ||2=9.846e-16  max|Δ|=2.498e-16  ||θ||2=9.509e+00  W0[0,0]=-0.03669  b0[0]=0.00000\n",
            "step 0047 | STL loss -0.3800 robustness | ||Δθ||2=9.895e-16  max|Δ|=2.498e-16  ||θ||2=9.509e+00  W0[0,0]=-0.03669  b0[0]=0.00000\n",
            "step 0048 | STL loss -0.3800 robustness | ||Δθ||2=1.024e-15  max|Δ|=2.220e-16  ||θ||2=9.509e+00  W0[0,0]=-0.03669  b0[0]=0.00000\n",
            "step 0049 | STL loss -0.3800 robustness | ||Δθ||2=1.057e-15  max|Δ|=2.220e-16  ||θ||2=9.509e+00  W0[0,0]=-0.03669  b0[0]=0.00000\n",
            "step 0050 | STL loss -0.3800 robustness | ||Δθ||2=1.073e-15  max|Δ|=3.053e-16  ||θ||2=9.509e+00  W0[0,0]=-0.03669  b0[0]=0.00000\n",
            "step 0051 | STL loss -0.3800 robustness | ||Δθ||2=9.880e-16  max|Δ|=2.776e-16  ||θ||2=9.509e+00  W0[0,0]=-0.03669  b0[0]=0.00000\n",
            "step 0052 | STL loss -0.3800 robustness | ||Δθ||2=9.013e-16  max|Δ|=2.498e-16  ||θ||2=9.509e+00  W0[0,0]=-0.03669  b0[0]=0.00000\n",
            "step 0053 | STL loss -0.3800 robustness | ||Δθ||2=9.862e-16  max|Δ|=2.220e-16  ||θ||2=9.509e+00  W0[0,0]=-0.03669  b0[0]=0.00000\n",
            "step 0054 | STL loss -0.3800 robustness | ||Δθ||2=1.021e-15  max|Δ|=1.943e-16  ||θ||2=9.509e+00  W0[0,0]=-0.03669  b0[0]=0.00000\n",
            "step 0055 | STL loss -0.3800 robustness | ||Δθ||2=9.366e-16  max|Δ|=1.943e-16  ||θ||2=9.509e+00  W0[0,0]=-0.03669  b0[0]=0.00000\n",
            "step 0056 | STL loss -0.3800 robustness | ||Δθ||2=9.814e-16  max|Δ|=2.498e-16  ||θ||2=9.509e+00  W0[0,0]=-0.03669  b0[0]=0.00000\n",
            "step 0057 | STL loss -0.3800 robustness | ||Δθ||2=9.037e-16  max|Δ|=2.220e-16  ||θ||2=9.509e+00  W0[0,0]=-0.03669  b0[0]=0.00000\n",
            "step 0058 | STL loss -0.3800 robustness | ||Δθ||2=9.728e-16  max|Δ|=2.498e-16  ||θ||2=9.509e+00  W0[0,0]=-0.03669  b0[0]=0.00000\n",
            "step 0059 | STL loss -0.3800 robustness | ||Δθ||2=1.038e-15  max|Δ|=3.331e-16  ||θ||2=9.509e+00  W0[0,0]=-0.03669  b0[0]=0.00000\n",
            "step 0060 | STL loss -0.3800 robustness | ||Δθ||2=1.134e-15  max|Δ|=3.053e-16  ||θ||2=9.509e+00  W0[0,0]=-0.03669  b0[0]=0.00000\n",
            "step 0061 | STL loss -0.3800 robustness | ||Δθ||2=1.145e-15  max|Δ|=2.776e-16  ||θ||2=9.509e+00  W0[0,0]=-0.03669  b0[0]=0.00000\n",
            "step 0062 | STL loss -0.3800 robustness | ||Δθ||2=1.051e-15  max|Δ|=2.498e-16  ||θ||2=9.509e+00  W0[0,0]=-0.03669  b0[0]=0.00000\n",
            "step 0063 | STL loss -0.3800 robustness | ||Δθ||2=9.551e-16  max|Δ|=2.220e-16  ||θ||2=9.509e+00  W0[0,0]=-0.03669  b0[0]=0.00000\n",
            "step 0064 | STL loss -0.3800 robustness | ||Δθ||2=9.709e-16  max|Δ|=2.498e-16  ||θ||2=9.509e+00  W0[0,0]=-0.03669  b0[0]=0.00000\n",
            "step 0065 | STL loss -0.3800 robustness | ||Δθ||2=8.987e-16  max|Δ|=2.220e-16  ||θ||2=9.509e+00  W0[0,0]=-0.03669  b0[0]=0.00000\n",
            "step 0066 | STL loss -0.3800 robustness | ||Δθ||2=9.513e-16  max|Δ|=3.331e-16  ||θ||2=9.509e+00  W0[0,0]=-0.03669  b0[0]=0.00000\n",
            "step 0067 | STL loss -0.3800 robustness | ||Δθ||2=1.091e-15  max|Δ|=4.441e-16  ||θ||2=9.509e+00  W0[0,0]=-0.03669  b0[0]=0.00000\n",
            "step 0068 | STL loss -0.3800 robustness | ||Δθ||2=1.139e-15  max|Δ|=5.274e-16  ||θ||2=9.509e+00  W0[0,0]=-0.03669  b0[0]=0.00000\n",
            "step 0069 | STL loss -0.3800 robustness | ||Δθ||2=1.040e-15  max|Δ|=4.718e-16  ||θ||2=9.509e+00  W0[0,0]=-0.03669  b0[0]=0.00000\n",
            "step 0070 | STL loss -0.3800 robustness | ||Δθ||2=1.082e-15  max|Δ|=4.441e-16  ||θ||2=9.509e+00  W0[0,0]=-0.03669  b0[0]=0.00000\n",
            "step 0071 | STL loss -0.3800 robustness | ||Δθ||2=1.084e-15  max|Δ|=3.886e-16  ||θ||2=9.509e+00  W0[0,0]=-0.03669  b0[0]=0.00000\n",
            "step 0072 | STL loss -0.3800 robustness | ||Δθ||2=1.119e-15  max|Δ|=3.608e-16  ||θ||2=9.509e+00  W0[0,0]=-0.03669  b0[0]=0.00000\n",
            "step 0073 | STL loss -0.3800 robustness | ||Δθ||2=1.024e-15  max|Δ|=3.331e-16  ||θ||2=9.509e+00  W0[0,0]=-0.03669  b0[0]=0.00000\n",
            "step 0074 | STL loss -0.3800 robustness | ||Δθ||2=1.110e-15  max|Δ|=2.914e-16  ||θ||2=9.509e+00  W0[0,0]=-0.03669  b0[0]=0.00000\n",
            "step 0075 | STL loss -0.3800 robustness | ||Δθ||2=1.013e-15  max|Δ|=2.637e-16  ||θ||2=9.509e+00  W0[0,0]=-0.03669  b0[0]=0.00000\n",
            "step 0076 | STL loss -0.3800 robustness | ||Δθ||2=1.093e-15  max|Δ|=3.469e-16  ||θ||2=9.509e+00  W0[0,0]=-0.03669  b0[0]=0.00000\n",
            "step 0077 | STL loss -0.3800 robustness | ||Δθ||2=1.117e-15  max|Δ|=3.331e-16  ||θ||2=9.509e+00  W0[0,0]=-0.03669  b0[0]=0.00000\n",
            "step 0078 | STL loss -0.3800 robustness | ||Δθ||2=1.001e-15  max|Δ|=2.776e-16  ||θ||2=9.509e+00  W0[0,0]=-0.03669  b0[0]=0.00000\n",
            "step 0079 | STL loss -0.3800 robustness | ||Δθ||2=1.027e-15  max|Δ|=2.533e-16  ||θ||2=9.509e+00  W0[0,0]=-0.03669  b0[0]=0.00000\n",
            "step 0080 | STL loss -0.3800 robustness | ||Δθ||2=1.104e-15  max|Δ|=3.053e-16  ||θ||2=9.509e+00  W0[0,0]=-0.03669  b0[0]=0.00000\n",
            "step 0081 | STL loss -0.3800 robustness | ||Δθ||2=1.136e-15  max|Δ|=3.886e-16  ||θ||2=9.509e+00  W0[0,0]=-0.03669  b0[0]=0.00000\n",
            "step 0082 | STL loss -0.3800 robustness | ||Δθ||2=1.042e-15  max|Δ|=3.608e-16  ||θ||2=9.509e+00  W0[0,0]=-0.03669  b0[0]=0.00000\n",
            "step 0083 | STL loss -0.3800 robustness | ||Δθ||2=1.059e-15  max|Δ|=3.053e-16  ||θ||2=9.509e+00  W0[0,0]=-0.03669  b0[0]=0.00000\n",
            "step 0084 | STL loss -0.3800 robustness | ||Δθ||2=9.682e-16  max|Δ|=2.776e-16  ||θ||2=9.509e+00  W0[0,0]=-0.03669  b0[0]=0.00000\n",
            "step 0085 | STL loss -0.3800 robustness | ||Δθ||2=1.007e-15  max|Δ|=2.498e-16  ||θ||2=9.509e+00  W0[0,0]=-0.03669  b0[0]=0.00000\n"
          ]
        },
        {
          "output_type": "error",
          "ename": "KeyboardInterrupt",
          "evalue": "",
          "traceback": [
            "\u001b[0;31m---------------------------------------------------------------------------\u001b[0m",
            "\u001b[0;31mKeyboardInterrupt\u001b[0m                         Traceback (most recent call last)",
            "\u001b[0;32m/tmp/ipython-input-1639134080.py\u001b[0m in \u001b[0;36m<cell line: 0>\u001b[0;34m()\u001b[0m\n\u001b[1;32m     17\u001b[0m \u001b[0mnum_steps\u001b[0m \u001b[0;34m=\u001b[0m \u001b[0;36m2000\u001b[0m\u001b[0;34m\u001b[0m\u001b[0;34m\u001b[0m\u001b[0m\n\u001b[1;32m     18\u001b[0m \u001b[0;32mfor\u001b[0m \u001b[0mstep\u001b[0m \u001b[0;32min\u001b[0m \u001b[0mrange\u001b[0m\u001b[0;34m(\u001b[0m\u001b[0;36m1\u001b[0m\u001b[0;34m,\u001b[0m \u001b[0mnum_steps\u001b[0m \u001b[0;34m+\u001b[0m \u001b[0;36m1\u001b[0m\u001b[0;34m)\u001b[0m\u001b[0;34m:\u001b[0m\u001b[0;34m\u001b[0m\u001b[0;34m\u001b[0m\u001b[0m\n\u001b[0;32m---> 19\u001b[0;31m     \u001b[0mpolicy_params\u001b[0m\u001b[0;34m,\u001b[0m \u001b[0mopt_state\u001b[0m\u001b[0;34m,\u001b[0m \u001b[0mtrain_loss\u001b[0m \u001b[0;34m=\u001b[0m \u001b[0mupdate\u001b[0m\u001b[0;34m(\u001b[0m\u001b[0mpolicy_params\u001b[0m\u001b[0;34m,\u001b[0m \u001b[0mopt_state\u001b[0m\u001b[0;34m)\u001b[0m\u001b[0;34m\u001b[0m\u001b[0;34m\u001b[0m\u001b[0m\n\u001b[0m\u001b[1;32m     20\u001b[0m \u001b[0;34m\u001b[0m\u001b[0m\n\u001b[1;32m     21\u001b[0m     \u001b[0;31m# ---- 监控参数变化（最小改动）----\u001b[0m\u001b[0;34m\u001b[0m\u001b[0;34m\u001b[0m\u001b[0m\n",
            "\u001b[0;32m<string>\u001b[0m in \u001b[0;36m<lambda>\u001b[0;34m(_cls, count, mu, nu)\u001b[0m\n",
            "\u001b[0;31mKeyboardInterrupt\u001b[0m: "
          ]
        }
      ],
      "source": [
        "optimizer = optax.adam(1e-3)\n",
        "opt_state = optimizer.init(policy_params)\n",
        "\n",
        "@jax.jit\n",
        "def update(params, opt_state):\n",
        "    loss_val = loss_fn(params)\n",
        "    flat_params, unravel = ravel_pytree(params)\n",
        "    def loss_flat(p):\n",
        "        return loss_fn(unravel(p))\n",
        "    grad_flat = jacfwd(loss_flat)(flat_params)\n",
        "    grads = unravel(grad_flat)\n",
        "    updates, opt_state = optimizer.update(grads, opt_state, params)\n",
        "    params = optax.apply_updates(params, updates)\n",
        "    return params, opt_state, loss_val\n",
        "\n",
        "prev_flat, _ = ravel_pytree(policy_params)\n",
        "num_steps = 2000\n",
        "for step in range(1, num_steps + 1):\n",
        "    policy_params, opt_state, train_loss = update(policy_params, opt_state)\n",
        "\n",
        "    # ---- 监控参数变化（最小改动）----\n",
        "    flat, _ = ravel_pytree(policy_params)\n",
        "    delta   = flat - prev_flat\n",
        "    d_norm  = float(jnp.linalg.norm(delta))\n",
        "    d_max   = float(jnp.max(jnp.abs(delta)))\n",
        "    w_norm  = float(jnp.linalg.norm(flat))\n",
        "\n",
        "    # 取几枚“探针”参数看看具体数值是否在动（第一层的一两个元素）\n",
        "    W0, b0 = policy_params[0]  # 第一层 (W,b)\n",
        "    probe_w = float(W0[0, 0])\n",
        "    probe_b = float(b0[0])\n",
        "\n",
        "    print(f\"step {step:04d} | STL loss {-train_loss:.4f} robustness | \"\n",
        "          f\"||Δθ||2={d_norm:.3e}  max|Δ|={d_max:.3e}  ||θ||2={w_norm:.3e}  \"\n",
        "          f\"W0[0,0]={probe_w:.5f}  b0[0]={probe_b:.5f}\")\n",
        "\n",
        "    prev_flat = flat  # 更新基线\n"
      ]
    }
  ],
  "metadata": {
    "language_info": {
      "name": "python"
    },
    "colab": {
      "provenance": [],
      "gpuType": "T4"
    },
    "kernelspec": {
      "name": "python3",
      "display_name": "Python 3"
    },
    "accelerator": "GPU"
  },
  "nbformat": 4,
  "nbformat_minor": 5
}